{
 "cells": [
  {
   "cell_type": "code",
   "execution_count": 1,
   "id": "cbd2ba80",
   "metadata": {},
   "outputs": [],
   "source": [
    "import nltk\n",
    "from nltk.corpus import stopwords \n",
    "from nltk.tokenize import word_tokenize, sent_tokenize"
   ]
  },
  {
   "cell_type": "code",
   "execution_count": 35,
   "id": "4cf26941",
   "metadata": {},
   "outputs": [],
   "source": [
    "# Function to extract the proper nouns \n",
    "\n",
    "def ProperNounExtractor(text):\n",
    "    word_list = []\n",
    "    sentences = nltk.sent_tokenize(text)\n",
    "    for sentence in sentences:\n",
    "        words = nltk.word_tokenize(sentence)\n",
    "        words = [word for word in words if word not in set(stopwords.words('english'))]\n",
    "        tagged = nltk.pos_tag(words)\n",
    "        for (word, tag) in tagged:\n",
    "            if tag == 'NNP': # If the word is a proper noun\n",
    "                word_list.append(word)"
   ]
  },
  {
   "cell_type": "code",
   "execution_count": 36,
   "id": "c4a7c4af",
   "metadata": {},
   "outputs": [
    {
     "data": {
      "text/plain": [
       "'ICICI'"
      ]
     },
     "execution_count": 36,
     "metadata": {},
     "output_type": "execute_result"
    }
   ],
   "source": [
    "text =  \"ICICI hires new employees\"\n",
    "# Calling the ProperNounExtractor function to extract all the proper nouns from the given text. \n",
    "ProperNounExtractor(text)"
   ]
  },
  {
   "cell_type": "code",
   "execution_count": 4,
   "id": "26f1a419",
   "metadata": {},
   "outputs": [],
   "source": [
    "import pandas as pd"
   ]
  },
  {
   "cell_type": "code",
   "execution_count": 5,
   "id": "72f9db71",
   "metadata": {},
   "outputs": [],
   "source": [
    "df = pd.read_csv('C://Users/eshub/OneDrive/Desktop/IndianFinancialNews.csv')"
   ]
  },
  {
   "cell_type": "code",
   "execution_count": 6,
   "id": "b573457c",
   "metadata": {},
   "outputs": [
    {
     "data": {
      "text/html": [
       "<div>\n",
       "<style scoped>\n",
       "    .dataframe tbody tr th:only-of-type {\n",
       "        vertical-align: middle;\n",
       "    }\n",
       "\n",
       "    .dataframe tbody tr th {\n",
       "        vertical-align: top;\n",
       "    }\n",
       "\n",
       "    .dataframe thead th {\n",
       "        text-align: right;\n",
       "    }\n",
       "</style>\n",
       "<table border=\"1\" class=\"dataframe\">\n",
       "  <thead>\n",
       "    <tr style=\"text-align: right;\">\n",
       "      <th></th>\n",
       "      <th>Unnamed: 0</th>\n",
       "      <th>Date</th>\n",
       "      <th>Title</th>\n",
       "      <th>Description</th>\n",
       "    </tr>\n",
       "  </thead>\n",
       "  <tbody>\n",
       "    <tr>\n",
       "      <th>0</th>\n",
       "      <td>0</td>\n",
       "      <td>May 26, 2020, Tuesday</td>\n",
       "      <td>ATMs to become virtual bank branches, accept d...</td>\n",
       "      <td>Close to 14.6 per cent (or 35,000) of the 240,...</td>\n",
       "    </tr>\n",
       "    <tr>\n",
       "      <th>1</th>\n",
       "      <td>1</td>\n",
       "      <td>May 26, 2020, Tuesday</td>\n",
       "      <td>IDFC First Bank seniors to forgo 65% of bonus ...</td>\n",
       "      <td>V Vaidyanathan, managing director and chief ex...</td>\n",
       "    </tr>\n",
       "    <tr>\n",
       "      <th>2</th>\n",
       "      <td>2</td>\n",
       "      <td>May 25, 2020, Monday</td>\n",
       "      <td>Huge scam in YES Bank for many years, says Enf...</td>\n",
       "      <td>Rana Kapoor's wife also charged with abetting ...</td>\n",
       "    </tr>\n",
       "    <tr>\n",
       "      <th>3</th>\n",
       "      <td>3</td>\n",
       "      <td>May 24, 2020, Sunday</td>\n",
       "      <td>Bank of Maharashtra sanctioned Rs 2,789 cr in ...</td>\n",
       "      <td>The bank said it was now gearing up to extend ...</td>\n",
       "    </tr>\n",
       "    <tr>\n",
       "      <th>4</th>\n",
       "      <td>4</td>\n",
       "      <td>May 23, 2020, Saturday</td>\n",
       "      <td>DCB Bank's profit before tax declines 37.6% to...</td>\n",
       "      <td>Net profit for the financial year ended March ...</td>\n",
       "    </tr>\n",
       "  </tbody>\n",
       "</table>\n",
       "</div>"
      ],
      "text/plain": [
       "   Unnamed: 0                    Date  \\\n",
       "0           0   May 26, 2020, Tuesday   \n",
       "1           1   May 26, 2020, Tuesday   \n",
       "2           2    May 25, 2020, Monday   \n",
       "3           3    May 24, 2020, Sunday   \n",
       "4           4  May 23, 2020, Saturday   \n",
       "\n",
       "                                               Title  \\\n",
       "0  ATMs to become virtual bank branches, accept d...   \n",
       "1  IDFC First Bank seniors to forgo 65% of bonus ...   \n",
       "2  Huge scam in YES Bank for many years, says Enf...   \n",
       "3  Bank of Maharashtra sanctioned Rs 2,789 cr in ...   \n",
       "4  DCB Bank's profit before tax declines 37.6% to...   \n",
       "\n",
       "                                         Description  \n",
       "0  Close to 14.6 per cent (or 35,000) of the 240,...  \n",
       "1  V Vaidyanathan, managing director and chief ex...  \n",
       "2  Rana Kapoor's wife also charged with abetting ...  \n",
       "3  The bank said it was now gearing up to extend ...  \n",
       "4  Net profit for the financial year ended March ...  "
      ]
     },
     "execution_count": 6,
     "metadata": {},
     "output_type": "execute_result"
    }
   ],
   "source": [
    "df.head()"
   ]
  },
  {
   "cell_type": "code",
   "execution_count": 13,
   "id": "ae6c3804",
   "metadata": {},
   "outputs": [
    {
     "name": "stdout",
     "output_type": "stream",
     "text": [
      "PROPER NOUNS EXTRACTED :\n",
      "IDFC\n",
      "First\n",
      "Bank\n",
      "Covid-19\n"
     ]
    }
   ],
   "source": []
  },
  {
   "cell_type": "code",
   "execution_count": null,
   "id": "79cf9986",
   "metadata": {},
   "outputs": [],
   "source": []
  }
 ],
 "metadata": {
  "kernelspec": {
   "display_name": "Python 3 (ipykernel)",
   "language": "python",
   "name": "python3"
  },
  "language_info": {
   "codemirror_mode": {
    "name": "ipython",
    "version": 3
   },
   "file_extension": ".py",
   "mimetype": "text/x-python",
   "name": "python",
   "nbconvert_exporter": "python",
   "pygments_lexer": "ipython3",
   "version": "3.9.12"
  }
 },
 "nbformat": 4,
 "nbformat_minor": 5
}
